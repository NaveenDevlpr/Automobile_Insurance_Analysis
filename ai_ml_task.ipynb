{
 "cells": [
  {
   "cell_type": "code",
   "execution_count": 3,
   "id": "d83ebaf3",
   "metadata": {},
   "outputs": [],
   "source": [
    "import pandas as pd"
   ]
  },
  {
   "cell_type": "code",
   "execution_count": 4,
   "id": "80e279e6",
   "metadata": {},
   "outputs": [],
   "source": [
    "data=pd.read_csv('dataset.csv')"
   ]
  },
  {
   "cell_type": "code",
   "execution_count": 6,
   "id": "69c7b9e9",
   "metadata": {},
   "outputs": [
    {
     "name": "stdout",
     "output_type": "stream",
     "text": [
      "<class 'pandas.core.frame.DataFrame'>\n",
      "RangeIndex: 11504798 entries, 0 to 11504797\n",
      "Data columns (total 12 columns):\n",
      " #   Column                Dtype  \n",
      "---  ------                -----  \n",
      " 0   id                    int64  \n",
      " 1   Gender                object \n",
      " 2   Age                   int64  \n",
      " 3   Driving_License       int64  \n",
      " 4   Region_Code           float64\n",
      " 5   Previously_Insured    int64  \n",
      " 6   Vehicle_Age           object \n",
      " 7   Vehicle_Damage        object \n",
      " 8   Annual_Premium        float64\n",
      " 9   Policy_Sales_Channel  float64\n",
      " 10  Vintage               int64  \n",
      " 11  Response              int64  \n",
      "dtypes: float64(3), int64(6), object(3)\n",
      "memory usage: 1.0+ GB\n"
     ]
    }
   ],
   "source": [
    "data.info()"
   ]
  },
  {
   "cell_type": "code",
   "execution_count": 7,
   "id": "becb27db",
   "metadata": {},
   "outputs": [
    {
     "data": {
      "text/html": [
       "<div>\n",
       "<style scoped>\n",
       "    .dataframe tbody tr th:only-of-type {\n",
       "        vertical-align: middle;\n",
       "    }\n",
       "\n",
       "    .dataframe tbody tr th {\n",
       "        vertical-align: top;\n",
       "    }\n",
       "\n",
       "    .dataframe thead th {\n",
       "        text-align: right;\n",
       "    }\n",
       "</style>\n",
       "<table border=\"1\" class=\"dataframe\">\n",
       "  <thead>\n",
       "    <tr style=\"text-align: right;\">\n",
       "      <th></th>\n",
       "      <th>id</th>\n",
       "      <th>Age</th>\n",
       "      <th>Driving_License</th>\n",
       "      <th>Region_Code</th>\n",
       "      <th>Previously_Insured</th>\n",
       "      <th>Annual_Premium</th>\n",
       "      <th>Policy_Sales_Channel</th>\n",
       "      <th>Vintage</th>\n",
       "      <th>Response</th>\n",
       "    </tr>\n",
       "  </thead>\n",
       "  <tbody>\n",
       "    <tr>\n",
       "      <th>count</th>\n",
       "      <td>1.150480e+07</td>\n",
       "      <td>1.150480e+07</td>\n",
       "      <td>1.150480e+07</td>\n",
       "      <td>1.150480e+07</td>\n",
       "      <td>1.150480e+07</td>\n",
       "      <td>1.150480e+07</td>\n",
       "      <td>1.150480e+07</td>\n",
       "      <td>1.150480e+07</td>\n",
       "      <td>1.150480e+07</td>\n",
       "    </tr>\n",
       "    <tr>\n",
       "      <th>mean</th>\n",
       "      <td>5.752398e+06</td>\n",
       "      <td>3.838356e+01</td>\n",
       "      <td>9.980220e-01</td>\n",
       "      <td>2.641869e+01</td>\n",
       "      <td>4.629966e-01</td>\n",
       "      <td>3.046137e+04</td>\n",
       "      <td>1.124254e+02</td>\n",
       "      <td>1.638977e+02</td>\n",
       "      <td>1.229973e-01</td>\n",
       "    </tr>\n",
       "    <tr>\n",
       "      <th>std</th>\n",
       "      <td>3.321149e+06</td>\n",
       "      <td>1.499346e+01</td>\n",
       "      <td>4.443120e-02</td>\n",
       "      <td>1.299159e+01</td>\n",
       "      <td>4.986289e-01</td>\n",
       "      <td>1.645475e+04</td>\n",
       "      <td>5.403571e+01</td>\n",
       "      <td>7.997953e+01</td>\n",
       "      <td>3.284341e-01</td>\n",
       "    </tr>\n",
       "    <tr>\n",
       "      <th>min</th>\n",
       "      <td>0.000000e+00</td>\n",
       "      <td>2.000000e+01</td>\n",
       "      <td>0.000000e+00</td>\n",
       "      <td>0.000000e+00</td>\n",
       "      <td>0.000000e+00</td>\n",
       "      <td>2.630000e+03</td>\n",
       "      <td>1.000000e+00</td>\n",
       "      <td>1.000000e+01</td>\n",
       "      <td>0.000000e+00</td>\n",
       "    </tr>\n",
       "    <tr>\n",
       "      <th>25%</th>\n",
       "      <td>2.876199e+06</td>\n",
       "      <td>2.400000e+01</td>\n",
       "      <td>1.000000e+00</td>\n",
       "      <td>1.500000e+01</td>\n",
       "      <td>0.000000e+00</td>\n",
       "      <td>2.527700e+04</td>\n",
       "      <td>2.900000e+01</td>\n",
       "      <td>9.900000e+01</td>\n",
       "      <td>0.000000e+00</td>\n",
       "    </tr>\n",
       "    <tr>\n",
       "      <th>50%</th>\n",
       "      <td>5.752398e+06</td>\n",
       "      <td>3.600000e+01</td>\n",
       "      <td>1.000000e+00</td>\n",
       "      <td>2.800000e+01</td>\n",
       "      <td>0.000000e+00</td>\n",
       "      <td>3.182400e+04</td>\n",
       "      <td>1.510000e+02</td>\n",
       "      <td>1.660000e+02</td>\n",
       "      <td>0.000000e+00</td>\n",
       "    </tr>\n",
       "    <tr>\n",
       "      <th>75%</th>\n",
       "      <td>8.628598e+06</td>\n",
       "      <td>4.900000e+01</td>\n",
       "      <td>1.000000e+00</td>\n",
       "      <td>3.500000e+01</td>\n",
       "      <td>1.000000e+00</td>\n",
       "      <td>3.945100e+04</td>\n",
       "      <td>1.520000e+02</td>\n",
       "      <td>2.320000e+02</td>\n",
       "      <td>0.000000e+00</td>\n",
       "    </tr>\n",
       "    <tr>\n",
       "      <th>max</th>\n",
       "      <td>1.150480e+07</td>\n",
       "      <td>8.500000e+01</td>\n",
       "      <td>1.000000e+00</td>\n",
       "      <td>5.200000e+01</td>\n",
       "      <td>1.000000e+00</td>\n",
       "      <td>5.401650e+05</td>\n",
       "      <td>1.630000e+02</td>\n",
       "      <td>2.990000e+02</td>\n",
       "      <td>1.000000e+00</td>\n",
       "    </tr>\n",
       "  </tbody>\n",
       "</table>\n",
       "</div>"
      ],
      "text/plain": [
       "                 id           Age  Driving_License   Region_Code  \\\n",
       "count  1.150480e+07  1.150480e+07     1.150480e+07  1.150480e+07   \n",
       "mean   5.752398e+06  3.838356e+01     9.980220e-01  2.641869e+01   \n",
       "std    3.321149e+06  1.499346e+01     4.443120e-02  1.299159e+01   \n",
       "min    0.000000e+00  2.000000e+01     0.000000e+00  0.000000e+00   \n",
       "25%    2.876199e+06  2.400000e+01     1.000000e+00  1.500000e+01   \n",
       "50%    5.752398e+06  3.600000e+01     1.000000e+00  2.800000e+01   \n",
       "75%    8.628598e+06  4.900000e+01     1.000000e+00  3.500000e+01   \n",
       "max    1.150480e+07  8.500000e+01     1.000000e+00  5.200000e+01   \n",
       "\n",
       "       Previously_Insured  Annual_Premium  Policy_Sales_Channel       Vintage  \\\n",
       "count        1.150480e+07    1.150480e+07          1.150480e+07  1.150480e+07   \n",
       "mean         4.629966e-01    3.046137e+04          1.124254e+02  1.638977e+02   \n",
       "std          4.986289e-01    1.645475e+04          5.403571e+01  7.997953e+01   \n",
       "min          0.000000e+00    2.630000e+03          1.000000e+00  1.000000e+01   \n",
       "25%          0.000000e+00    2.527700e+04          2.900000e+01  9.900000e+01   \n",
       "50%          0.000000e+00    3.182400e+04          1.510000e+02  1.660000e+02   \n",
       "75%          1.000000e+00    3.945100e+04          1.520000e+02  2.320000e+02   \n",
       "max          1.000000e+00    5.401650e+05          1.630000e+02  2.990000e+02   \n",
       "\n",
       "           Response  \n",
       "count  1.150480e+07  \n",
       "mean   1.229973e-01  \n",
       "std    3.284341e-01  \n",
       "min    0.000000e+00  \n",
       "25%    0.000000e+00  \n",
       "50%    0.000000e+00  \n",
       "75%    0.000000e+00  \n",
       "max    1.000000e+00  "
      ]
     },
     "execution_count": 7,
     "metadata": {},
     "output_type": "execute_result"
    }
   ],
   "source": [
    "data.describe()"
   ]
  },
  {
   "cell_type": "code",
   "execution_count": 5,
   "id": "d134945b",
   "metadata": {},
   "outputs": [
    {
     "data": {
      "text/html": [
       "<div>\n",
       "<style scoped>\n",
       "    .dataframe tbody tr th:only-of-type {\n",
       "        vertical-align: middle;\n",
       "    }\n",
       "\n",
       "    .dataframe tbody tr th {\n",
       "        vertical-align: top;\n",
       "    }\n",
       "\n",
       "    .dataframe thead th {\n",
       "        text-align: right;\n",
       "    }\n",
       "</style>\n",
       "<table border=\"1\" class=\"dataframe\">\n",
       "  <thead>\n",
       "    <tr style=\"text-align: right;\">\n",
       "      <th></th>\n",
       "      <th>id</th>\n",
       "      <th>Gender</th>\n",
       "      <th>Age</th>\n",
       "      <th>Driving_License</th>\n",
       "      <th>Region_Code</th>\n",
       "      <th>Previously_Insured</th>\n",
       "      <th>Vehicle_Age</th>\n",
       "      <th>Vehicle_Damage</th>\n",
       "      <th>Annual_Premium</th>\n",
       "      <th>Policy_Sales_Channel</th>\n",
       "      <th>Vintage</th>\n",
       "      <th>Response</th>\n",
       "    </tr>\n",
       "  </thead>\n",
       "  <tbody>\n",
       "    <tr>\n",
       "      <th>0</th>\n",
       "      <td>0</td>\n",
       "      <td>Male</td>\n",
       "      <td>21</td>\n",
       "      <td>1</td>\n",
       "      <td>35.0</td>\n",
       "      <td>0</td>\n",
       "      <td>1-2 Year</td>\n",
       "      <td>Yes</td>\n",
       "      <td>65101.0</td>\n",
       "      <td>124.0</td>\n",
       "      <td>187</td>\n",
       "      <td>0</td>\n",
       "    </tr>\n",
       "    <tr>\n",
       "      <th>1</th>\n",
       "      <td>1</td>\n",
       "      <td>Male</td>\n",
       "      <td>43</td>\n",
       "      <td>1</td>\n",
       "      <td>28.0</td>\n",
       "      <td>0</td>\n",
       "      <td>&gt; 2 Years</td>\n",
       "      <td>Yes</td>\n",
       "      <td>58911.0</td>\n",
       "      <td>26.0</td>\n",
       "      <td>288</td>\n",
       "      <td>1</td>\n",
       "    </tr>\n",
       "    <tr>\n",
       "      <th>2</th>\n",
       "      <td>2</td>\n",
       "      <td>Female</td>\n",
       "      <td>25</td>\n",
       "      <td>1</td>\n",
       "      <td>14.0</td>\n",
       "      <td>1</td>\n",
       "      <td>&lt; 1 Year</td>\n",
       "      <td>No</td>\n",
       "      <td>38043.0</td>\n",
       "      <td>152.0</td>\n",
       "      <td>254</td>\n",
       "      <td>0</td>\n",
       "    </tr>\n",
       "    <tr>\n",
       "      <th>3</th>\n",
       "      <td>3</td>\n",
       "      <td>Female</td>\n",
       "      <td>35</td>\n",
       "      <td>1</td>\n",
       "      <td>1.0</td>\n",
       "      <td>0</td>\n",
       "      <td>1-2 Year</td>\n",
       "      <td>Yes</td>\n",
       "      <td>2630.0</td>\n",
       "      <td>156.0</td>\n",
       "      <td>76</td>\n",
       "      <td>0</td>\n",
       "    </tr>\n",
       "    <tr>\n",
       "      <th>4</th>\n",
       "      <td>4</td>\n",
       "      <td>Female</td>\n",
       "      <td>36</td>\n",
       "      <td>1</td>\n",
       "      <td>15.0</td>\n",
       "      <td>1</td>\n",
       "      <td>1-2 Year</td>\n",
       "      <td>No</td>\n",
       "      <td>31951.0</td>\n",
       "      <td>152.0</td>\n",
       "      <td>294</td>\n",
       "      <td>0</td>\n",
       "    </tr>\n",
       "  </tbody>\n",
       "</table>\n",
       "</div>"
      ],
      "text/plain": [
       "   id  Gender  Age  Driving_License  Region_Code  Previously_Insured  \\\n",
       "0   0    Male   21                1         35.0                   0   \n",
       "1   1    Male   43                1         28.0                   0   \n",
       "2   2  Female   25                1         14.0                   1   \n",
       "3   3  Female   35                1          1.0                   0   \n",
       "4   4  Female   36                1         15.0                   1   \n",
       "\n",
       "  Vehicle_Age Vehicle_Damage  Annual_Premium  Policy_Sales_Channel  Vintage  \\\n",
       "0    1-2 Year            Yes         65101.0                 124.0      187   \n",
       "1   > 2 Years            Yes         58911.0                  26.0      288   \n",
       "2    < 1 Year             No         38043.0                 152.0      254   \n",
       "3    1-2 Year            Yes          2630.0                 156.0       76   \n",
       "4    1-2 Year             No         31951.0                 152.0      294   \n",
       "\n",
       "   Response  \n",
       "0         0  \n",
       "1         1  \n",
       "2         0  \n",
       "3         0  \n",
       "4         0  "
      ]
     },
     "execution_count": 5,
     "metadata": {},
     "output_type": "execute_result"
    }
   ],
   "source": [
    "data.head()"
   ]
  },
  {
   "cell_type": "code",
   "execution_count": 8,
   "id": "4fec90e2",
   "metadata": {},
   "outputs": [
    {
     "data": {
      "text/plain": [
       "(11504798, 12)"
      ]
     },
     "execution_count": 8,
     "metadata": {},
     "output_type": "execute_result"
    }
   ],
   "source": [
    "data.shape"
   ]
  },
  {
   "cell_type": "code",
   "execution_count": 40,
   "id": "8ec2aec3",
   "metadata": {},
   "outputs": [
    {
     "data": {
      "text/plain": [
       "id                      0\n",
       "Gender                  0\n",
       "Age                     0\n",
       "Driving_License         0\n",
       "Region_Code             0\n",
       "Previously_Insured      0\n",
       "Vehicle_Age             0\n",
       "Vehicle_Damage          0\n",
       "Annual_Premium          0\n",
       "Policy_Sales_Channel    0\n",
       "Vintage                 0\n",
       "Response                0\n",
       "dtype: int64"
      ]
     },
     "execution_count": 40,
     "metadata": {},
     "output_type": "execute_result"
    }
   ],
   "source": [
    "data.isnull().sum()"
   ]
  },
  {
   "cell_type": "code",
   "execution_count": 9,
   "id": "7f2bd61e",
   "metadata": {},
   "outputs": [],
   "source": [
    "import seaborn as sb"
   ]
  },
  {
   "cell_type": "code",
   "execution_count": 10,
   "id": "2d72c9ef",
   "metadata": {},
   "outputs": [
    {
     "data": {
      "text/plain": [
       "<seaborn.axisgrid.FacetGrid at 0x1b33f9e8110>"
      ]
     },
     "execution_count": 10,
     "metadata": {},
     "output_type": "execute_result"
    },
    {
     "data": {
      "image/png": "[encoded data removed]",
      "text/plain": [
       "<Figure size 511.111x500 with 1 Axes>"
      ]
     },
     "metadata": {},
     "output_type": "display_data"
    }
   ],
   "source": [
    "sb.catplot(x='Response',data=data,kind='count')"
   ]
  },
  {
   "cell_type": "code",
   "execution_count": 12,
   "id": "9e9c5a29",
   "metadata": {},
   "outputs": [
    {
     "name": "stdout",
     "output_type": "stream",
     "text": [
      "Response\n",
      "0    10089739\n",
      "1     1415059\n",
      "Name: count, dtype: int64\n"
     ]
    }
   ],
   "source": [
    "count_of_response=data['Response'].value_counts()\n",
    "print(count_of_response)"
   ]
  },
  {
   "cell_type": "markdown",
   "id": "bdd9516a",
   "metadata": {
    "vscode": {
     "languageId": "raw"
    }
   },
   "source": [
    "# the dataset is found to be imbalanced (we can also see the analysis from the bar chart), the dependent variable's category records should be balanced. only then we'll get an unbiased result . or else the result will be biased. on our case the \"Response\" type 0 is nearly 10 times greater than the \"Response\" type 1. so it is clearly imbalanced. We have to create a balanced dataset\n",
    "\n",
    "# and also i'll take total of 40000 records with balanced records from both category. because it will be faster and easier to analyse and train.\n"
   ]
  },
  {
   "cell_type": "markdown",
   "id": "0b225c1d",
   "metadata": {},
   "source": []
  },
  {
   "cell_type": "markdown",
   "id": "00fb752f",
   "metadata": {},
   "source": [
    "Creating a Balanced Dataset"
   ]
  },
  {
   "cell_type": "code",
   "execution_count": 14,
   "id": "bd99ae21",
   "metadata": {},
   "outputs": [
    {
     "name": "stdout",
     "output_type": "stream",
     "text": [
      "(40000, 12)\n"
     ]
    }
   ],
   "source": [
    "response_type_1_data=data[data['Response']==1]\n",
    "response_type_0_data=data[data['Response']==0]\n",
    "\n",
    "\n",
    "new_response_type_0_data=response_type_0_data.sample(n=20000,random_state=42)\n",
    "new_response_type_1_data=response_type_1_data.sample(n=20000,random_state=42)\n",
    "\n",
    "new_data=pd.concat([new_response_type_0_data,new_response_type_1_data],axis=0)\n",
    "\n",
    "print(new_data.shape)"
   ]
  },
  {
   "cell_type": "code",
   "execution_count": 15,
   "id": "3d9b79f9",
   "metadata": {},
   "outputs": [
    {
     "name": "stdout",
     "output_type": "stream",
     "text": [
      "(20000, 12)\n",
      "(20000, 12)\n"
     ]
    }
   ],
   "source": [
    "print(new_response_type_0_data.shape)\n",
    "print(new_response_type_1_data.shape)"
   ]
  },
  {
   "cell_type": "code",
   "execution_count": 16,
   "id": "2fd4ccf4",
   "metadata": {},
   "outputs": [
    {
     "name": "stdout",
     "output_type": "stream",
     "text": [
      "                 id           Age  Driving_License   Region_Code  \\\n",
      "count  4.000000e+04  40000.000000     40000.000000  40000.000000   \n",
      "mean   5.736632e+06     40.524700         0.998550     26.654100   \n",
      "std    3.330996e+06     13.839465         0.038052     12.277649   \n",
      "min    5.600000e+02     20.000000         0.000000      0.000000   \n",
      "25%    2.860676e+06     27.000000         1.000000     18.000000   \n",
      "50%    5.741592e+06     41.000000         1.000000     28.000000   \n",
      "75%    8.621320e+06     50.000000         1.000000     33.000000   \n",
      "max    1.150478e+07     83.000000         1.000000     52.000000   \n",
      "\n",
      "       Previously_Insured  Annual_Premium  Policy_Sales_Channel       Vintage  \\\n",
      "count        40000.000000    40000.000000          40000.000000  40000.000000   \n",
      "mean             0.267525    31076.825150            102.806575    162.465225   \n",
      "std              0.442674    17088.307494             55.898988     79.653641   \n",
      "min              0.000000     2630.000000              1.000000     10.000000   \n",
      "25%              0.000000    25503.750000             26.000000     99.000000   \n",
      "50%              0.000000    32768.000000            124.000000    165.000000   \n",
      "75%              1.000000    40776.000000            152.000000    230.000000   \n",
      "max              1.000000   540165.000000            163.000000    299.000000   \n",
      "\n",
      "           Response  \n",
      "count  40000.000000  \n",
      "mean       0.500000  \n",
      "std        0.500006  \n",
      "min        0.000000  \n",
      "25%        0.000000  \n",
      "50%        0.500000  \n",
      "75%        1.000000  \n",
      "max        1.000000  \n"
     ]
    }
   ],
   "source": [
    "print(new_data.describe())"
   ]
  },
  {
   "cell_type": "markdown",
   "id": "a4f7fe56",
   "metadata": {},
   "source": [
    "Analysing the Distribution and Correlation"
   ]
  },
  {
   "cell_type": "code",
   "execution_count": 53,
   "id": "de6b5694",
   "metadata": {},
   "outputs": [],
   "source": [
    "num_variables=['Age','Region_Code','Annual_Premium','Policy_Sales_Channel','Vintage']\n",
    "cat_variables=['Driving_License','Previously_Insured','Vehicle_Age','Vehicle_Damage','Gender']"
   ]
  },
  {
   "cell_type": "code",
   "execution_count": 26,
   "id": "8b91df66",
   "metadata": {},
   "outputs": [
    {
     "data": {
      "image/png": "[encoded data removed]",
      "text/plain": [
       "<Figure size 500x500 with 1 Axes>"
      ]
     },
     "metadata": {},
     "output_type": "display_data"
    },
    {
     "data": {
      "image/png": "[encoded data removed]",
      "text/plain": [
       "<Figure size 500x500 with 1 Axes>"
      ]
     },
     "metadata": {},
     "output_type": "display_data"
    },
    {
     "data": {
      "image/png": "[encoded data removed]",
      "text/plain": [
       "<Figure size 500x500 with 1 Axes>"
      ]
     },
     "metadata": {},
     "output_type": "display_data"
    },
    {
     "data": {
      "image/png": "[encoded data removed]",
      "text/plain": [
       "<Figure size 500x500 with 1 Axes>"
      ]
     },
     "metadata": {},
     "output_type": "display_data"
    },
    {
     "data": {
      "image/png": "[encoded data removed]",
      "text/plain": [
       "<Figure size 500x500 with 1 Axes>"
      ]
     },
     "metadata": {},
     "output_type": "display_data"
    }
   ],
   "source": [
    "for i in num_variables:\n",
    "    sb.displot(new_data,x=i)"
   ]
  },
  {
   "cell_type": "code",
   "execution_count": null,
   "id": "de9ad7e4",
   "metadata": {},
   "outputs": [
    {
     "name": "stdout",
     "output_type": "stream",
     "text": [
      "Annual_Premium 1.3883514819668155\n"
     ]
    }
   ],
   "source": [
    "#find skewness:\n",
    "\n",
    "for i in num_variables:\n",
    "    skew_val=new_data[i].skew()\n",
    "    if skew_val>1 or skew_val<-1:\n",
    "        print(i,skew_val) \n",
    "        \n",
    "        \n",
    "#the annual premium is the highly right skewed. if needed we can do any transformation on the variable to make it normally distributed."
   ]
  },
  {
   "cell_type": "code",
   "execution_count": null,
   "id": "1ea35f6b",
   "metadata": {},
   "outputs": [],
   "source": [
    "#we'll see the correlation between the independent variables vs dependent variable\n",
    "# to see which we can drop(feature selection):\n",
    "\n",
    "\n",
    "import matplotlib.pyplot as plt\n"
   ]
  },
  {
   "cell_type": "code",
   "execution_count": 31,
   "id": "dbf8e63c",
   "metadata": {},
   "outputs": [
    {
     "data": {
      "image/png": "[encoded data removed]",
      "text/plain": [
       "<Figure size 600x400 with 1 Axes>"
      ]
     },
     "metadata": {},
     "output_type": "display_data"
    },
    {
     "data": {
      "image/png": "[encoded data removed]",
      "text/plain": [
       "<Figure size 600x400 with 1 Axes>"
      ]
     },
     "metadata": {},
     "output_type": "display_data"
    },
    {
     "data": {
      "image/png": "[encoded data removed]",
      "text/plain": [
       "<Figure size 600x400 with 1 Axes>"
      ]
     },
     "metadata": {},
     "output_type": "display_data"
    },
    {
     "data": {
      "image/png": "[encoded data removed]",
      "text/plain": [
       "<Figure size 600x400 with 1 Axes>"
      ]
     },
     "metadata": {},
     "output_type": "display_data"
    },
    {
     "data": {
      "image/png": "[encoded data removed]",
      "text/plain": [
       "<Figure size 600x400 with 1 Axes>"
      ]
     },
     "metadata": {},
     "output_type": "display_data"
    }
   ],
   "source": [
    "for i in num_variables:\n",
    "    plt.figure(figsize=(6, 4))\n",
    "    sb.boxplot(x='Response', y=i, data=new_data)\n",
    "    plt.show()"
   ]
  },
  {
   "cell_type": "markdown",
   "id": "f8fbb7fc",
   "metadata": {},
   "source": [
    "From the box plot we can see that there is no significant change in median, quartile range, \n",
    "So i'm dropping the Vintage Feature"
   ]
  },
  {
   "cell_type": "code",
   "execution_count": 45,
   "id": "8284a4bb",
   "metadata": {},
   "outputs": [],
   "source": [
    "new_data.drop(['Vintage'],axis=1,inplace=True)"
   ]
  },
  {
   "cell_type": "code",
   "execution_count": 46,
   "id": "45d8e4a2",
   "metadata": {},
   "outputs": [
    {
     "data": {
      "text/plain": [
       "(40000, 10)"
      ]
     },
     "execution_count": 46,
     "metadata": {},
     "output_type": "execute_result"
    }
   ],
   "source": [
    "new_data.shape"
   ]
  },
  {
   "cell_type": "code",
   "execution_count": null,
   "id": "143dff64",
   "metadata": {},
   "outputs": [
    {
     "name": "stdout",
     "output_type": "stream",
     "text": [
      "37.7669\n",
      "43.2825\n",
      "-40.669309750079556 0.0\n"
     ]
    }
   ],
   "source": [
    "#t-test for age\n",
    "from scipy.stats import ttest_ind\n",
    "\n",
    "age_0=new_data[new_data['Response']==0]['Age']\n",
    "age_1=new_data[new_data['Response']==1]['Age']\n",
    "\n",
    "t_statistic,p_value=ttest_ind(age_0,age_1,equal_var=False)\n",
    "\n",
    "\n",
    "print(t_statistic,p_value)"
   ]
  },
  {
   "cell_type": "code",
   "execution_count": null,
   "id": "8cd8e52e",
   "metadata": {},
   "outputs": [
    {
     "name": "stdout",
     "output_type": "stream",
     "text": [
      "-8.234337847741665 1.859839887047056e-16\n"
     ]
    }
   ],
   "source": [
    "#we'll do a t-test for Annual_Premium , to check whether to drop it or not:\n",
    "\n",
    "\n",
    "\n",
    "annual_premium_of_response_0=new_data[new_data['Response']==0]['Annual_Premium']\n",
    "annual_premium_of_response_1=new_data[new_data['Response']==1]['Annual_Premium']\n",
    "\n",
    "t_statistic,p_value=ttest_ind(annual_premium_of_response_0,annual_premium_of_response_1,equal_var=False)\n",
    "\n",
    "print(t_statistic,p_value)"
   ]
  },
  {
   "cell_type": "code",
   "execution_count": 47,
   "id": "769940c0",
   "metadata": {},
   "outputs": [
    {
     "name": "stdout",
     "output_type": "stream",
     "text": [
      "-3.265677503058245 0.0010929631785020484\n"
     ]
    }
   ],
   "source": [
    "# t test for region_code\n",
    "\n",
    "region_code_0=new_data[new_data['Response']==0]['Region_Code']\n",
    "region_code_1=new_data[new_data['Response']==1]['Region_Code']\n",
    "\n",
    "t_statistic,p_value=ttest_ind(region_code_0,region_code_1,equal_var=False)\n",
    "\n",
    "print(t_statistic,p_value)"
   ]
  },
  {
   "cell_type": "markdown",
   "id": "6233e4f8",
   "metadata": {},
   "source": [
    "P value of the t test for region is 0 , which is less than 0.05 , so i consider using it "
   ]
  },
  {
   "cell_type": "markdown",
   "id": "315bb5e3",
   "metadata": {},
   "source": [
    "The p value is less than 0.05 , and also we can see a samll difference in the median of both\n",
    "so im considering not to drop\n",
    "\n",
    "We'll clean the outliers in the further steps"
   ]
  },
  {
   "cell_type": "code",
   "execution_count": 44,
   "id": "c6ba28eb",
   "metadata": {},
   "outputs": [
    {
     "name": "stdout",
     "output_type": "stream",
     "text": [
      "30373.85745\n",
      "31779.79285\n"
     ]
    }
   ],
   "source": [
    "print(annual_premium_of_response_0.mean())\n",
    "print(annual_premium_of_response_1.mean())"
   ]
  },
  {
   "cell_type": "code",
   "execution_count": 73,
   "id": "7c208acc",
   "metadata": {},
   "outputs": [],
   "source": [
    "num_variables=['Age','Region_Code','Annual_Premium','Policy_Sales_Channel']\n",
    "cat_variables=['Previously_Insured','Vehicle_Age','Vehicle_Damage','Gender']"
   ]
  },
  {
   "cell_type": "code",
   "execution_count": 56,
   "id": "d2b6ee5e",
   "metadata": {},
   "outputs": [
    {
     "data": {
      "image/png": "[encoded data removed]",
      "text/plain": [
       "<Figure size 600x400 with 1 Axes>"
      ]
     },
     "metadata": {},
     "output_type": "display_data"
    },
    {
     "data": {
      "image/png": "[encoded data removed]",
      "text/plain": [
       "<Figure size 600x400 with 1 Axes>"
      ]
     },
     "metadata": {},
     "output_type": "display_data"
    },
    {
     "data": {
      "image/png": "[encoded data removed]",
      "text/plain": [
       "<Figure size 600x400 with 1 Axes>"
      ]
     },
     "metadata": {},
     "output_type": "display_data"
    },
    {
     "data": {
      "image/png": "[encoded data removed]",
      "text/plain": [
       "<Figure size 600x400 with 1 Axes>"
      ]
     },
     "metadata": {},
     "output_type": "display_data"
    }
   ],
   "source": [
    "for i in cat_variables:\n",
    "    plt.figure(figsize=(6, 4))\n",
    "    sb.boxplot(x='Response', y=i, data=new_data)\n",
    "    plt.show()"
   ]
  },
  {
   "cell_type": "code",
   "execution_count": 57,
   "id": "81fdb947",
   "metadata": {},
   "outputs": [
    {
     "name": "stdout",
     "output_type": "stream",
     "text": [
      "Previously_Insured 14340.306352722866 0.0\n",
      "Vehicle_Age 5234.212849183736 0.0\n",
      "Vehicle_Damage 14738.04376757918 0.0\n",
      "Gender 283.64746903687677 1.204390885350193e-63\n"
     ]
    }
   ],
   "source": [
    "# for categorical vs categorical we can use chi square test:\n",
    "\n",
    "# i feel like we can drop the driving_license, but before we can test with chi square test:\n",
    "\n",
    "from scipy.stats import chi2_contingency\n",
    "\n",
    "for i in cat_variables:\n",
    "    chi2,p,dof,exp=chi2_contingency(pd.crosstab(new_data[i],new_data['Response']))\n",
    "    print(i,chi2,p)"
   ]
  },
  {
   "cell_type": "markdown",
   "id": "af15ba4e",
   "metadata": {},
   "source": [
    "The Chi square test of previuosly_insured is very high and the p-value is 0, so We can keep this variable "
   ]
  },
  {
   "cell_type": "markdown",
   "id": "86c5f015",
   "metadata": {},
   "source": [
    "# we'll calculate the effect size to se whether we can consider Driving_license or not\n",
    "\n"
   ]
  },
  {
   "cell_type": "code",
   "execution_count": null,
   "id": "e8e0df1a",
   "metadata": {},
   "outputs": [
    {
     "name": "stdout",
     "output_type": "stream",
     "text": [
      "0.01773923404622159\n"
     ]
    }
   ],
   "source": [
    "table=pd.crosstab(new_data['Driving_License'],new_data['Response'])\n",
    "chi2,p,dof,exp=chi2_contingency(table)\n",
    "size=table.sum().sum()\n",
    "min_dim = min(table.shape[0] - 1,table.shape[1] - 1)\n",
    "v = (chi2 / size) ** 0.5 / (min_dim ** 0.5) if min_dim > 0 else 0\n",
    "\n",
    "print(v)\n",
    "\n"
   ]
  },
  {
   "cell_type": "markdown",
   "id": "521fc07e",
   "metadata": {},
   "source": [
    "The Effect size of Driving_License is 0 and also by analysing the plot also i can conclude i'll drop the Driving_license feature"
   ]
  },
  {
   "cell_type": "code",
   "execution_count": 38,
   "id": "42a7324a",
   "metadata": {},
   "outputs": [
    {
     "data": {
      "text/plain": [
       "(40000, 12)"
      ]
     },
     "execution_count": 38,
     "metadata": {},
     "output_type": "execute_result"
    }
   ],
   "source": [
    "new_data.shape"
   ]
  },
  {
   "cell_type": "code",
   "execution_count": 39,
   "id": "f60fd5c6",
   "metadata": {},
   "outputs": [
    {
     "data": {
      "text/plain": [
       "(40000, 11)"
      ]
     },
     "execution_count": 39,
     "metadata": {},
     "output_type": "execute_result"
    }
   ],
   "source": [
    "new_data.drop(['Driving_License'],axis=1,inplace=True)\n",
    "new_data.shape"
   ]
  },
  {
   "cell_type": "code",
   "execution_count": 62,
   "id": "fa71e29b",
   "metadata": {},
   "outputs": [
    {
     "name": "stdout",
     "output_type": "stream",
     "text": [
      "Previously_Insured 0.5987550908493987\n",
      "Vehicle_Age 0.3617393000899866\n",
      "Vehicle_Damage 0.607001725030069\n",
      "Gender 0.08420918433236317\n"
     ]
    }
   ],
   "source": [
    "for i in cat_variables:\n",
    "    table=pd.crosstab(new_data[i],new_data['Response'])\n",
    "    chi2,p,dof,exp=chi2_contingency(table)\n",
    "    size=table.sum().sum()\n",
    "    min_dim = min(table.shape[0] - 1,table.shape[1] - 1)\n",
    "    v = (chi2 / size) ** 0.5 / (min_dim ** 0.5) if min_dim > 0 else 0\n",
    "\n",
    "    print(i,v)"
   ]
  },
  {
   "cell_type": "markdown",
   "id": "194c8e93",
   "metadata": {},
   "source": [
    "From the outupt of Cramer's V value and also from the box plot of the categorical variables, im removing the Gender and Vehicle_Age"
   ]
  },
  {
   "cell_type": "code",
   "execution_count": 63,
   "id": "1e8488ab",
   "metadata": {},
   "outputs": [],
   "source": [
    "new_data.drop(['Gender','Vehicle_Age'],axis=1,inplace=True)"
   ]
  },
  {
   "cell_type": "code",
   "execution_count": 64,
   "id": "a9ab2db7",
   "metadata": {},
   "outputs": [
    {
     "data": {
      "text/html": [
       "<div>\n",
       "<style scoped>\n",
       "    .dataframe tbody tr th:only-of-type {\n",
       "        vertical-align: middle;\n",
       "    }\n",
       "\n",
       "    .dataframe tbody tr th {\n",
       "        vertical-align: top;\n",
       "    }\n",
       "\n",
       "    .dataframe thead th {\n",
       "        text-align: right;\n",
       "    }\n",
       "</style>\n",
       "<table border=\"1\" class=\"dataframe\">\n",
       "  <thead>\n",
       "    <tr style=\"text-align: right;\">\n",
       "      <th></th>\n",
       "      <th>id</th>\n",
       "      <th>Age</th>\n",
       "      <th>Region_Code</th>\n",
       "      <th>Previously_Insured</th>\n",
       "      <th>Vehicle_Damage</th>\n",
       "      <th>Annual_Premium</th>\n",
       "      <th>Policy_Sales_Channel</th>\n",
       "      <th>Response</th>\n",
       "    </tr>\n",
       "  </thead>\n",
       "  <tbody>\n",
       "    <tr>\n",
       "      <th>9312666</th>\n",
       "      <td>9312666</td>\n",
       "      <td>45</td>\n",
       "      <td>3.0</td>\n",
       "      <td>1</td>\n",
       "      <td>No</td>\n",
       "      <td>40255.0</td>\n",
       "      <td>26.0</td>\n",
       "      <td>0</td>\n",
       "    </tr>\n",
       "    <tr>\n",
       "      <th>7451099</th>\n",
       "      <td>7451099</td>\n",
       "      <td>25</td>\n",
       "      <td>29.0</td>\n",
       "      <td>1</td>\n",
       "      <td>No</td>\n",
       "      <td>37886.0</td>\n",
       "      <td>152.0</td>\n",
       "      <td>0</td>\n",
       "    </tr>\n",
       "    <tr>\n",
       "      <th>2954187</th>\n",
       "      <td>2954187</td>\n",
       "      <td>48</td>\n",
       "      <td>28.0</td>\n",
       "      <td>0</td>\n",
       "      <td>Yes</td>\n",
       "      <td>45362.0</td>\n",
       "      <td>26.0</td>\n",
       "      <td>0</td>\n",
       "    </tr>\n",
       "    <tr>\n",
       "      <th>5438487</th>\n",
       "      <td>5438487</td>\n",
       "      <td>48</td>\n",
       "      <td>28.0</td>\n",
       "      <td>1</td>\n",
       "      <td>No</td>\n",
       "      <td>35124.0</td>\n",
       "      <td>26.0</td>\n",
       "      <td>0</td>\n",
       "    </tr>\n",
       "    <tr>\n",
       "      <th>469689</th>\n",
       "      <td>469689</td>\n",
       "      <td>22</td>\n",
       "      <td>41.0</td>\n",
       "      <td>1</td>\n",
       "      <td>No</td>\n",
       "      <td>25775.0</td>\n",
       "      <td>152.0</td>\n",
       "      <td>0</td>\n",
       "    </tr>\n",
       "  </tbody>\n",
       "</table>\n",
       "</div>"
      ],
      "text/plain": [
       "              id  Age  Region_Code  Previously_Insured Vehicle_Damage  \\\n",
       "9312666  9312666   45          3.0                   1             No   \n",
       "7451099  7451099   25         29.0                   1             No   \n",
       "2954187  2954187   48         28.0                   0            Yes   \n",
       "5438487  5438487   48         28.0                   1             No   \n",
       "469689    469689   22         41.0                   1             No   \n",
       "\n",
       "         Annual_Premium  Policy_Sales_Channel  Response  \n",
       "9312666         40255.0                  26.0         0  \n",
       "7451099         37886.0                 152.0         0  \n",
       "2954187         45362.0                  26.0         0  \n",
       "5438487         35124.0                  26.0         0  \n",
       "469689          25775.0                 152.0         0  "
      ]
     },
     "execution_count": 64,
     "metadata": {},
     "output_type": "execute_result"
    }
   ],
   "source": [
    "new_data.head()"
   ]
  },
  {
   "cell_type": "code",
   "execution_count": 65,
   "id": "11ebfb68",
   "metadata": {},
   "outputs": [
    {
     "data": {
      "text/plain": [
       "(40000, 8)"
      ]
     },
     "execution_count": 65,
     "metadata": {},
     "output_type": "execute_result"
    }
   ],
   "source": [
    "new_data.shape"
   ]
  },
  {
   "cell_type": "code",
   "execution_count": 67,
   "id": "ee98707e",
   "metadata": {},
   "outputs": [
    {
     "name": "stdout",
     "output_type": "stream",
     "text": [
      "Region_Code\n",
      "28.0    14951\n",
      "8.0      3109\n",
      "41.0     1937\n",
      "46.0     1822\n",
      "29.0     1132\n",
      "15.0     1111\n",
      "30.0     1037\n",
      "11.0      931\n",
      "3.0       848\n",
      "50.0      830\n",
      "36.0      767\n",
      "33.0      749\n",
      "35.0      685\n",
      "47.0      682\n",
      "45.0      530\n",
      "6.0       500\n",
      "18.0      498\n",
      "39.0      490\n",
      "37.0      461\n",
      "14.0      419\n",
      "10.0      365\n",
      "21.0      362\n",
      "48.0      356\n",
      "7.0       337\n",
      "13.0      323\n",
      "2.0       322\n",
      "9.0       282\n",
      "12.0      277\n",
      "24.0      271\n",
      "32.0      242\n",
      "38.0      240\n",
      "27.0      232\n",
      "43.0      223\n",
      "17.0      211\n",
      "20.0      199\n",
      "31.0      192\n",
      "26.0      191\n",
      "4.0       191\n",
      "23.0      186\n",
      "19.0      183\n",
      "0.0       170\n",
      "25.0      151\n",
      "16.0      151\n",
      "49.0      148\n",
      "34.0      144\n",
      "5.0       125\n",
      "1.0       117\n",
      "40.0      102\n",
      "22.0       98\n",
      "44.0       50\n",
      "42.0       43\n",
      "51.0       14\n",
      "52.0       13\n",
      "Name: count, dtype: int64\n"
     ]
    }
   ],
   "source": [
    "print(new_data['Region_Code'].value_counts())"
   ]
  },
  {
   "cell_type": "code",
   "execution_count": 70,
   "id": "442659dd",
   "metadata": {},
   "outputs": [],
   "source": [
    "def remove_outliers(df,cols):\n",
    "    d=df.copy()\n",
    "    for col in cols:\n",
    "        q1=d[col].quantile(0.25)\n",
    "        q3=d[col].quantile(0.75)\n",
    "        iqr=q3-q1\n",
    "        lower_bound=q1-1.5*iqr\n",
    "        upper_bound=q3+1.5*iqr\n",
    "        d=d[(d[col]>lower_bound) & (d[col]<upper_bound)]\n",
    "    return d"
   ]
  },
  {
   "cell_type": "code",
   "execution_count": 75,
   "id": "659ced92",
   "metadata": {},
   "outputs": [
    {
     "data": {
      "text/plain": [
       "(39351, 8)"
      ]
     },
     "execution_count": 75,
     "metadata": {},
     "output_type": "execute_result"
    }
   ],
   "source": [
    "cols=num_variables\n",
    "\n",
    "cleaned_data=remove_outliers(new_data,cols[1:])\n",
    "cleaned_data.shape"
   ]
  },
  {
   "cell_type": "code",
   "execution_count": 76,
   "id": "caac5436",
   "metadata": {},
   "outputs": [
    {
     "data": {
      "text/plain": [
       "['Age', 'Region_Code', 'Annual_Premium', 'Policy_Sales_Channel']"
      ]
     },
     "execution_count": 76,
     "metadata": {},
     "output_type": "execute_result"
    }
   ],
   "source": [
    "cols"
   ]
  },
  {
   "cell_type": "code",
   "execution_count": 78,
   "id": "f26664ce",
   "metadata": {},
   "outputs": [
    {
     "data": {
      "image/png": "[encoded data removed]",
      "text/plain": [
       "<Figure size 400x300 with 1 Axes>"
      ]
     },
     "metadata": {},
     "output_type": "display_data"
    },
    {
     "data": {
      "image/png": "[encoded data removed]",
      "text/plain": [
       "<Figure size 400x300 with 1 Axes>"
      ]
     },
     "metadata": {},
     "output_type": "display_data"
    },
    {
     "data": {
      "image/png": "[encoded data removed]",
      "text/plain": [
       "<Figure size 400x300 with 1 Axes>"
      ]
     },
     "metadata": {},
     "output_type": "display_data"
    },
    {
     "data": {
      "image/png": "[encoded data removed]",
      "text/plain": [
       "<Figure size 400x300 with 1 Axes>"
      ]
     },
     "metadata": {},
     "output_type": "display_data"
    }
   ],
   "source": [
    "for i in num_variables:\n",
    "    plt.figure(figsize=(4, 3))\n",
    "    sb.boxplot(x='Response', y=i, data=cleaned_data)\n",
    "    plt.show()"
   ]
  },
  {
   "cell_type": "code",
   "execution_count": 79,
   "id": "012ed9a2",
   "metadata": {},
   "outputs": [
    {
     "data": {
      "text/html": [
       "<div>\n",
       "<style scoped>\n",
       "    .dataframe tbody tr th:only-of-type {\n",
       "        vertical-align: middle;\n",
       "    }\n",
       "\n",
       "    .dataframe tbody tr th {\n",
       "        vertical-align: top;\n",
       "    }\n",
       "\n",
       "    .dataframe thead th {\n",
       "        text-align: right;\n",
       "    }\n",
       "</style>\n",
       "<table border=\"1\" class=\"dataframe\">\n",
       "  <thead>\n",
       "    <tr style=\"text-align: right;\">\n",
       "      <th></th>\n",
       "      <th>id</th>\n",
       "      <th>Age</th>\n",
       "      <th>Region_Code</th>\n",
       "      <th>Previously_Insured</th>\n",
       "      <th>Vehicle_Damage</th>\n",
       "      <th>Annual_Premium</th>\n",
       "      <th>Policy_Sales_Channel</th>\n",
       "      <th>Response</th>\n",
       "    </tr>\n",
       "  </thead>\n",
       "  <tbody>\n",
       "    <tr>\n",
       "      <th>9312666</th>\n",
       "      <td>9312666</td>\n",
       "      <td>45</td>\n",
       "      <td>3.0</td>\n",
       "      <td>1</td>\n",
       "      <td>No</td>\n",
       "      <td>40255.0</td>\n",
       "      <td>26.0</td>\n",
       "      <td>0</td>\n",
       "    </tr>\n",
       "    <tr>\n",
       "      <th>7451099</th>\n",
       "      <td>7451099</td>\n",
       "      <td>25</td>\n",
       "      <td>29.0</td>\n",
       "      <td>1</td>\n",
       "      <td>No</td>\n",
       "      <td>37886.0</td>\n",
       "      <td>152.0</td>\n",
       "      <td>0</td>\n",
       "    </tr>\n",
       "    <tr>\n",
       "      <th>2954187</th>\n",
       "      <td>2954187</td>\n",
       "      <td>48</td>\n",
       "      <td>28.0</td>\n",
       "      <td>0</td>\n",
       "      <td>Yes</td>\n",
       "      <td>45362.0</td>\n",
       "      <td>26.0</td>\n",
       "      <td>0</td>\n",
       "    </tr>\n",
       "    <tr>\n",
       "      <th>5438487</th>\n",
       "      <td>5438487</td>\n",
       "      <td>48</td>\n",
       "      <td>28.0</td>\n",
       "      <td>1</td>\n",
       "      <td>No</td>\n",
       "      <td>35124.0</td>\n",
       "      <td>26.0</td>\n",
       "      <td>0</td>\n",
       "    </tr>\n",
       "    <tr>\n",
       "      <th>469689</th>\n",
       "      <td>469689</td>\n",
       "      <td>22</td>\n",
       "      <td>41.0</td>\n",
       "      <td>1</td>\n",
       "      <td>No</td>\n",
       "      <td>25775.0</td>\n",
       "      <td>152.0</td>\n",
       "      <td>0</td>\n",
       "    </tr>\n",
       "  </tbody>\n",
       "</table>\n",
       "</div>"
      ],
      "text/plain": [
       "              id  Age  Region_Code  Previously_Insured Vehicle_Damage  \\\n",
       "9312666  9312666   45          3.0                   1             No   \n",
       "7451099  7451099   25         29.0                   1             No   \n",
       "2954187  2954187   48         28.0                   0            Yes   \n",
       "5438487  5438487   48         28.0                   1             No   \n",
       "469689    469689   22         41.0                   1             No   \n",
       "\n",
       "         Annual_Premium  Policy_Sales_Channel  Response  \n",
       "9312666         40255.0                  26.0         0  \n",
       "7451099         37886.0                 152.0         0  \n",
       "2954187         45362.0                  26.0         0  \n",
       "5438487         35124.0                  26.0         0  \n",
       "469689          25775.0                 152.0         0  "
      ]
     },
     "execution_count": 79,
     "metadata": {},
     "output_type": "execute_result"
    }
   ],
   "source": [
    "cleaned_data.head()"
   ]
  },
  {
   "cell_type": "markdown",
   "id": "ce7b7479",
   "metadata": {},
   "source": [
    "Feature Transformation"
   ]
  },
  {
   "cell_type": "code",
   "execution_count": null,
   "id": "3647db90",
   "metadata": {},
   "outputs": [],
   "source": []
  },
  {
   "cell_type": "code",
   "execution_count": 80,
   "id": "fd2f6c74",
   "metadata": {},
   "outputs": [],
   "source": [
    "num_variables=['Age','Annual_Premium','Policy_Sales_Channel']\n",
    "low_card_cat_variables=['Previously_Insured','Vehicle_Damage']\n",
    "high_card_cat_variables=['Region_Code']\n",
    "target='Response'"
   ]
  },
  {
   "cell_type": "code",
   "execution_count": null,
   "id": "0372fcee",
   "metadata": {},
   "outputs": [],
   "source": [
    "for col in high_card_cat_variables:\n",
    "    target_mean = cleaned_data.groupby(col)[target].mean()\n",
    "    cleaned_data[col] = cleaned_data[col].map(target_mean)\n",
    "    \n",
    "    \n",
    "cleaned_data = pd.get_dummies(cleaned_data, columns=low_card_cat_variables, drop_first=True)"
   ]
  }
 ],
 "metadata": {
  "kernelspec": {
   "display_name": "venv",
   "language": "python",
   "name": "python3"
  },
  "language_info": {
   "codemirror_mode": {
    "name": "ipython",
    "version": 3
   },
   "file_extension": ".py",
   "mimetype": "text/x-python",
   "name": "python",
   "nbconvert_exporter": "python",
   "pygments_lexer": "ipython3",
   "version": "3.11.7"
  }
 },
 "nbformat": 4,
 "nbformat_minor": 5
}
